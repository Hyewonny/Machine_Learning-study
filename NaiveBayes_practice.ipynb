{
 "cells": [
  {
   "cell_type": "code",
   "execution_count": 2,
   "metadata": {},
   "outputs": [],
   "source": [
    "def loadDataSet():\n",
    "    postingList = [['my','dog','has','flea','problems','help','please'],\n",
    "                   ['maybe', 'not', 'take', 'him', 'to', 'dog', 'park', 'stupid'],\n",
    "                   ['my', 'dalmation', 'is', 'so', 'cute', 'I', 'love', 'him'],\n",
    "                   ['stop', 'posting', 'stupid', 'worthless', 'garbage'],\n",
    "                   ['mr', 'licks', 'ate', 'my', 'steak', 'how', 'to', 'stop', 'him'],\n",
    "                   ['quit', 'buying', 'worthless', 'dog', 'food', 'stupid']]\n",
    "    classVec = [0,1,0,1,0,1]\n",
    "    return postingList, classVec"
   ]
  },
  {
   "cell_type": "code",
   "execution_count": 8,
   "metadata": {},
   "outputs": [],
   "source": [
    "def createVocabList(dataSet) : \n",
    "    vocabSet = set([])\n",
    "    for document in dataSet : \n",
    "        vocabSet = vocabSet | set(document)\n",
    "        print(set(document))\n",
    "    print(vocabSet)\n",
    "    return list(vocabSet)"
   ]
  },
  {
   "cell_type": "code",
   "execution_count": 6,
   "metadata": {},
   "outputs": [],
   "source": [
    "postingList, classVec = loadDataSet()"
   ]
  },
  {
   "cell_type": "code",
   "execution_count": 10,
   "metadata": {},
   "outputs": [
    {
     "name": "stdout",
     "output_type": "stream",
     "text": [
      "{'please', 'has', 'help', 'problems', 'flea', 'my', 'dog'}\n",
      "{'not', 'to', 'him', 'maybe', 'take', 'park', 'stupid', 'dog'}\n",
      "{'him', 'so', 'dalmation', 'I', 'is', 'cute', 'love', 'my'}\n",
      "{'posting', 'stop', 'stupid', 'worthless', 'garbage'}\n",
      "{'licks', 'ate', 'steak', 'mr', 'to', 'how', 'stop', 'him', 'my'}\n",
      "{'quit', 'worthless', 'buying', 'stupid', 'dog', 'food'}\n",
      "{'ate', 'to', 'him', 'maybe', 'take', 'so', 'mr', 'posting', 'how', 'quit', 'worthless', 'has', 'help', 'buying', 'stupid', 'garbage', 'is', 'flea', 'cute', 'love', 'my', 'dog', 'food', 'not', 'stop', 'licks', 'steak', 'dalmation', 'park', 'I', 'please', 'problems'}\n"
     ]
    },
    {
     "data": {
      "text/plain": [
       "['ate',\n",
       " 'to',\n",
       " 'him',\n",
       " 'maybe',\n",
       " 'take',\n",
       " 'so',\n",
       " 'mr',\n",
       " 'posting',\n",
       " 'how',\n",
       " 'quit',\n",
       " 'worthless',\n",
       " 'has',\n",
       " 'help',\n",
       " 'buying',\n",
       " 'stupid',\n",
       " 'garbage',\n",
       " 'is',\n",
       " 'flea',\n",
       " 'cute',\n",
       " 'love',\n",
       " 'my',\n",
       " 'dog',\n",
       " 'food',\n",
       " 'not',\n",
       " 'stop',\n",
       " 'licks',\n",
       " 'steak',\n",
       " 'dalmation',\n",
       " 'park',\n",
       " 'I',\n",
       " 'please',\n",
       " 'problems']"
      ]
     },
     "execution_count": 10,
     "metadata": {},
     "output_type": "execute_result"
    }
   ],
   "source": [
    "myvocablist=createVocabList(postingList)\n",
    "myvocablist.index(\"love\")\n",
    "myvocablist"
   ]
  },
  {
   "cell_type": "code",
   "execution_count": 15,
   "metadata": {},
   "outputs": [],
   "source": [
    "def setOfWords2Vec(vocabList, inputSet):\n",
    "    returnVec = [0]*len(vocabList)\n",
    "    for word in inputSet:\n",
    "        if word in vocabList : \n",
    "            returnVec[vocabList.index(word)] = 1\n",
    "        else : print (\"the word: %s is not in my Vocabulary!\" % word)\n",
    "    return returnVec"
   ]
  },
  {
   "cell_type": "code",
   "execution_count": 16,
   "metadata": {},
   "outputs": [
    {
     "data": {
      "text/plain": [
       "[0,\n",
       " 1,\n",
       " 0,\n",
       " 1,\n",
       " 0,\n",
       " 0,\n",
       " 0,\n",
       " 0,\n",
       " 0,\n",
       " 0,\n",
       " 0,\n",
       " 0,\n",
       " 0,\n",
       " 0,\n",
       " 1,\n",
       " 0,\n",
       " 0,\n",
       " 1,\n",
       " 1,\n",
       " 0,\n",
       " 0,\n",
       " 0,\n",
       " 0,\n",
       " 0,\n",
       " 1,\n",
       " 0,\n",
       " 0,\n",
       " 1,\n",
       " 0,\n",
       " 1,\n",
       " 0,\n",
       " 0]"
      ]
     },
     "execution_count": 16,
     "metadata": {},
     "output_type": "execute_result"
    }
   ],
   "source": [
    "setOfWords2Vec(myvocablist,postingList[1])"
   ]
  },
  {
   "cell_type": "code",
   "execution_count": 33,
   "metadata": {},
   "outputs": [],
   "source": [
    "def trainNB0(trainMatrix, trainCategory) : \n",
    "    numTrainDocs = len(trainMatrix)\n",
    "    numWords = len(trainMatrix[0])\n",
    "    pAbusive = sum(trainCategory)/float(numTrainDocs)\n",
    "    p0Num = np.ones(numWords) ; p1Num = np.ones(numWords)\n",
    "    p0Denom = 2.0 ; p1Denom = 2.0\n",
    "    for i in range(numTrainDocs) :\n",
    "        if trainCategory[i] ==1 :\n",
    "            p1Num += trainMatrix[i]\n",
    "            p1Denom += sum(trainMatrix[i])\n",
    "            print(p1Num)\n",
    "            print(p1Denom)\n",
    "        else : \n",
    "            p0Num += trainMatrix[i]\n",
    "            p0Denom += sum(trainMatrix[i])\n",
    "    p1Vect = np.log(p1Num/p1Denom)\n",
    "    p0Vect = np.log(p0Num/p0Denom)\n",
    "    return p0Vect, p1Vect, pAbusive"
   ]
  },
  {
   "cell_type": "code",
   "execution_count": 12,
   "metadata": {},
   "outputs": [],
   "source": [
    "listOPosts, listClasses = loadDataSet()"
   ]
  },
  {
   "cell_type": "code",
   "execution_count": 13,
   "metadata": {},
   "outputs": [
    {
     "name": "stdout",
     "output_type": "stream",
     "text": [
      "{'please', 'has', 'help', 'problems', 'flea', 'my', 'dog'}\n",
      "{'not', 'to', 'him', 'maybe', 'take', 'park', 'stupid', 'dog'}\n",
      "{'him', 'so', 'dalmation', 'I', 'is', 'cute', 'love', 'my'}\n",
      "{'posting', 'stop', 'stupid', 'worthless', 'garbage'}\n",
      "{'licks', 'ate', 'steak', 'mr', 'to', 'how', 'stop', 'him', 'my'}\n",
      "{'quit', 'worthless', 'buying', 'stupid', 'dog', 'food'}\n",
      "{'ate', 'to', 'him', 'maybe', 'take', 'so', 'mr', 'posting', 'how', 'quit', 'worthless', 'has', 'help', 'buying', 'stupid', 'garbage', 'is', 'flea', 'cute', 'love', 'my', 'dog', 'food', 'not', 'stop', 'licks', 'steak', 'dalmation', 'park', 'I', 'please', 'problems'}\n"
     ]
    }
   ],
   "source": [
    "myVocabList = createVocabList(listOPosts)"
   ]
  },
  {
   "cell_type": "code",
   "execution_count": 39,
   "metadata": {},
   "outputs": [
    {
     "data": {
      "text/plain": [
       "[[0,\n",
       "  0,\n",
       "  0,\n",
       "  0,\n",
       "  0,\n",
       "  0,\n",
       "  0,\n",
       "  0,\n",
       "  0,\n",
       "  0,\n",
       "  0,\n",
       "  1,\n",
       "  1,\n",
       "  0,\n",
       "  0,\n",
       "  0,\n",
       "  0,\n",
       "  1,\n",
       "  0,\n",
       "  0,\n",
       "  1,\n",
       "  1,\n",
       "  0,\n",
       "  0,\n",
       "  0,\n",
       "  0,\n",
       "  0,\n",
       "  0,\n",
       "  0,\n",
       "  0,\n",
       "  1,\n",
       "  1],\n",
       " [0,\n",
       "  1,\n",
       "  1,\n",
       "  1,\n",
       "  1,\n",
       "  0,\n",
       "  0,\n",
       "  0,\n",
       "  0,\n",
       "  0,\n",
       "  0,\n",
       "  0,\n",
       "  0,\n",
       "  0,\n",
       "  1,\n",
       "  0,\n",
       "  0,\n",
       "  0,\n",
       "  0,\n",
       "  0,\n",
       "  0,\n",
       "  1,\n",
       "  0,\n",
       "  1,\n",
       "  0,\n",
       "  0,\n",
       "  0,\n",
       "  0,\n",
       "  1,\n",
       "  0,\n",
       "  0,\n",
       "  0],\n",
       " [0,\n",
       "  0,\n",
       "  1,\n",
       "  0,\n",
       "  0,\n",
       "  1,\n",
       "  0,\n",
       "  0,\n",
       "  0,\n",
       "  0,\n",
       "  0,\n",
       "  0,\n",
       "  0,\n",
       "  0,\n",
       "  0,\n",
       "  0,\n",
       "  1,\n",
       "  0,\n",
       "  1,\n",
       "  1,\n",
       "  1,\n",
       "  0,\n",
       "  0,\n",
       "  0,\n",
       "  0,\n",
       "  0,\n",
       "  0,\n",
       "  1,\n",
       "  0,\n",
       "  1,\n",
       "  0,\n",
       "  0],\n",
       " [0,\n",
       "  0,\n",
       "  0,\n",
       "  0,\n",
       "  0,\n",
       "  0,\n",
       "  0,\n",
       "  1,\n",
       "  0,\n",
       "  0,\n",
       "  1,\n",
       "  0,\n",
       "  0,\n",
       "  0,\n",
       "  1,\n",
       "  1,\n",
       "  0,\n",
       "  0,\n",
       "  0,\n",
       "  0,\n",
       "  0,\n",
       "  0,\n",
       "  0,\n",
       "  0,\n",
       "  1,\n",
       "  0,\n",
       "  0,\n",
       "  0,\n",
       "  0,\n",
       "  0,\n",
       "  0,\n",
       "  0],\n",
       " [1,\n",
       "  1,\n",
       "  1,\n",
       "  0,\n",
       "  0,\n",
       "  0,\n",
       "  1,\n",
       "  0,\n",
       "  1,\n",
       "  0,\n",
       "  0,\n",
       "  0,\n",
       "  0,\n",
       "  0,\n",
       "  0,\n",
       "  0,\n",
       "  0,\n",
       "  0,\n",
       "  0,\n",
       "  0,\n",
       "  1,\n",
       "  0,\n",
       "  0,\n",
       "  0,\n",
       "  1,\n",
       "  1,\n",
       "  1,\n",
       "  0,\n",
       "  0,\n",
       "  0,\n",
       "  0,\n",
       "  0],\n",
       " [0,\n",
       "  0,\n",
       "  0,\n",
       "  0,\n",
       "  0,\n",
       "  0,\n",
       "  0,\n",
       "  0,\n",
       "  0,\n",
       "  1,\n",
       "  1,\n",
       "  0,\n",
       "  0,\n",
       "  1,\n",
       "  1,\n",
       "  0,\n",
       "  0,\n",
       "  0,\n",
       "  0,\n",
       "  0,\n",
       "  0,\n",
       "  1,\n",
       "  1,\n",
       "  0,\n",
       "  0,\n",
       "  0,\n",
       "  0,\n",
       "  0,\n",
       "  0,\n",
       "  0,\n",
       "  0,\n",
       "  0]]"
      ]
     },
     "execution_count": 39,
     "metadata": {},
     "output_type": "execute_result"
    }
   ],
   "source": [
    "trainMat=[]\n",
    "for postinDoc in listOPosts:\n",
    "    trainMat.append(setOfWords2Vec(myVocabList, postinDoc))\n",
    "trainMat"
   ]
  },
  {
   "cell_type": "code",
   "execution_count": 35,
   "metadata": {},
   "outputs": [
    {
     "name": "stdout",
     "output_type": "stream",
     "text": [
      "[1. 2. 2. 2. 2. 1. 1. 1. 1. 1. 1. 1. 1. 1. 2. 1. 1. 1. 1. 1. 1. 2. 1. 2.\n",
      " 1. 1. 1. 1. 2. 1. 1. 1.]\n",
      "10.0\n",
      "[1. 2. 2. 2. 2. 1. 1. 2. 1. 1. 2. 1. 1. 1. 3. 2. 1. 1. 1. 1. 1. 2. 1. 2.\n",
      " 2. 1. 1. 1. 2. 1. 1. 1.]\n",
      "15.0\n",
      "[1. 2. 2. 2. 2. 1. 1. 2. 1. 2. 3. 1. 1. 2. 4. 2. 1. 1. 1. 1. 1. 3. 2. 2.\n",
      " 2. 1. 1. 1. 2. 1. 1. 1.]\n",
      "21.0\n"
     ]
    },
    {
     "data": {
      "text/plain": [
       "(array([-2.56494936, -2.56494936, -2.15948425, -3.25809654, -3.25809654,\n",
       "        -2.56494936, -2.56494936, -3.25809654, -2.56494936, -3.25809654,\n",
       "        -3.25809654, -2.56494936, -2.56494936, -3.25809654, -3.25809654,\n",
       "        -3.25809654, -2.56494936, -2.56494936, -2.56494936, -2.56494936,\n",
       "        -1.87180218, -2.56494936, -3.25809654, -3.25809654, -2.56494936,\n",
       "        -2.56494936, -2.56494936, -2.56494936, -3.25809654, -2.56494936,\n",
       "        -2.56494936, -2.56494936]),\n",
       " array([-3.04452244, -2.35137526, -2.35137526, -2.35137526, -2.35137526,\n",
       "        -3.04452244, -3.04452244, -2.35137526, -3.04452244, -2.35137526,\n",
       "        -1.94591015, -3.04452244, -3.04452244, -2.35137526, -1.65822808,\n",
       "        -2.35137526, -3.04452244, -3.04452244, -3.04452244, -3.04452244,\n",
       "        -3.04452244, -1.94591015, -2.35137526, -2.35137526, -2.35137526,\n",
       "        -3.04452244, -3.04452244, -3.04452244, -2.35137526, -3.04452244,\n",
       "        -3.04452244, -3.04452244]),\n",
       " 0.5)"
      ]
     },
     "execution_count": 35,
     "metadata": {},
     "output_type": "execute_result"
    }
   ],
   "source": [
    "trainNB0(trainMat,listClasses)"
   ]
  },
  {
   "cell_type": "code",
   "execution_count": 36,
   "metadata": {},
   "outputs": [
    {
     "name": "stdout",
     "output_type": "stream",
     "text": [
      "[1. 2. 2. 2. 2. 1. 1. 1. 1. 1. 1. 1. 1. 1. 2. 1. 1. 1. 1. 1. 1. 2. 1. 2.\n",
      " 1. 1. 1. 1. 2. 1. 1. 1.]\n",
      "10.0\n",
      "[1. 2. 2. 2. 2. 1. 1. 2. 1. 1. 2. 1. 1. 1. 3. 2. 1. 1. 1. 1. 1. 2. 1. 2.\n",
      " 2. 1. 1. 1. 2. 1. 1. 1.]\n",
      "15.0\n",
      "[1. 2. 2. 2. 2. 1. 1. 2. 1. 2. 3. 1. 1. 2. 4. 2. 1. 1. 1. 1. 1. 3. 2. 2.\n",
      " 2. 1. 1. 1. 2. 1. 1. 1.]\n",
      "21.0\n"
     ]
    }
   ],
   "source": [
    "p0V,p1V,pAb=trainNB0(trainMat,listClasses)"
   ]
  },
  {
   "cell_type": "code",
   "execution_count": 40,
   "metadata": {
    "scrolled": true
   },
   "outputs": [
    {
     "data": {
      "text/plain": [
       "array([-2.56494936, -2.56494936, -2.15948425, -3.25809654, -3.25809654,\n",
       "       -2.56494936, -2.56494936, -3.25809654, -2.56494936, -3.25809654,\n",
       "       -3.25809654, -2.56494936, -2.56494936, -3.25809654, -3.25809654,\n",
       "       -3.25809654, -2.56494936, -2.56494936, -2.56494936, -2.56494936,\n",
       "       -1.87180218, -2.56494936, -3.25809654, -3.25809654, -2.56494936,\n",
       "       -2.56494936, -2.56494936, -2.56494936, -3.25809654, -2.56494936,\n",
       "       -2.56494936, -2.56494936])"
      ]
     },
     "execution_count": 40,
     "metadata": {},
     "output_type": "execute_result"
    }
   ],
   "source": [
    "p0V"
   ]
  },
  {
   "cell_type": "code",
   "execution_count": 41,
   "metadata": {},
   "outputs": [
    {
     "data": {
      "text/plain": [
       "32"
      ]
     },
     "execution_count": 41,
     "metadata": {},
     "output_type": "execute_result"
    }
   ],
   "source": [
    "len(p0V)"
   ]
  },
  {
   "cell_type": "code",
   "execution_count": 1,
   "metadata": {},
   "outputs": [],
   "source": [
    "def classifyNB(vec2Classify, p0Vec, p1Vec, pClass1) :\n",
    "    p1 = sum(vec2Classify*p1Vec) +log(pClass1)\n",
    "    p0 = sum(vec2Classify * p0Vec) + log(1.0 - pClass1)\n",
    "    if p1 > p0 :\n",
    "        return 1\n",
    "    else :\n",
    "        return 0\n",
    "    \n",
    "def testingNB() : \n",
    "    listOPosts, listClasses = loadDataSet()\n",
    "    myVocabList = createVocabList(listOPosts)\n",
    "    trainMat = []\n",
    "    for postinDoc in listOPosts :\n",
    "        trainMat.append(setOfWords2Vec(myVocabList, postinDoc))\n",
    "        p0V,p1V,pAb = trainNB0(array(trainMat), array(listClasses))\n",
    "        testEntry = ['love','my','dalmation']\n",
    "        thisDoc = array(setOfWords2Vec(myVocabList, testEntry))\n",
    "        print (testEntry,'classified as : ', classifyNB(thisDoc,p0V,p1V,pAb))\n",
    "        testEntry = ['stupid', 'garbage']\n",
    "        thisDoc = array(setOfWords2Vec(myVocabList, testEntry))\n",
    "        print(testEntry, 'classified as :', classifyNB(thisDoc,p0V,p1V,pAb))"
   ]
  },
  {
   "cell_type": "code",
   "execution_count": null,
   "metadata": {},
   "outputs": [],
   "source": []
  }
 ],
 "metadata": {
  "anaconda-cloud": {},
  "kernelspec": {
   "display_name": "Python [Root]",
   "language": "python",
   "name": "Python [Root]"
  },
  "language_info": {
   "codemirror_mode": {
    "name": "ipython",
    "version": 3
   },
   "file_extension": ".py",
   "mimetype": "text/x-python",
   "name": "python",
   "nbconvert_exporter": "python",
   "pygments_lexer": "ipython3",
   "version": "3.5.4"
  }
 },
 "nbformat": 4,
 "nbformat_minor": 2
}
